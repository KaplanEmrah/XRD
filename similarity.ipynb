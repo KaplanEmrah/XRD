{
 "cells": [
  {
   "cell_type": "code",
   "execution_count": 2,
   "metadata": {},
   "outputs": [],
   "source": [
    "\"\"\"\n",
    "To compare the similarity between two patterns, load two patterns w/ PXRD\n",
    "\n",
    "XRD.get_profile() function will return the profiling function of the simulated pattern\n",
    "+ an r shifted pattern. This variable is called XRD.both_patterns.\n",
    "\n",
    "Obtain these patterns from both simulates, and call XRD.calculate_symmetry() w/ the patterns\n",
    "as arguments.\n",
    "\"\"\"\n",
    "import numpy as np\n",
    "import matplotlib.pyplot as plt\n",
    "import scipy\n",
    "from scipy.optimize import curve_fit\n",
    "from XRD import Element, crystal, XRD\n",
    "\n",
    "\"\"\"\n",
    "Structure 1\n",
    "\"\"\"\n",
    "_struct = crystal('cif',filename='NaCl.cif')\n",
    "_wavelength = 1.54056\n",
    "_max_diff_angle = 90\n",
    "_profile = 'gaussian'\n",
    "_fwhm = 0.9\n",
    "_po = False\n",
    "_G = 0\n",
    "\n",
    "xrd1 = XRD(_struct,_wavelength,_max_diff_angle,_profile,_fwhm,_po,_G)\n",
    "\n",
    "\n",
    "# _struct = crystal('POSCAR',filename='POSCAR-SrF')\n",
    "_struct = crystal('cif',filename='NaCl.cif')\n",
    "_wavelength = 1.54056\n",
    "_max_diff_angle = 90\n",
    "_profile = 'gaussian'\n",
    "_fwhm = 0.9\n",
    "_po = False\n",
    "_G = 0\n",
    "\n",
    "xrd2 = XRD(_struct,_wavelength,_max_diff_angle,_profile,_fwhm,_po,_G)\n"
   ]
  },
  {
   "cell_type": "code",
   "execution_count": 4,
   "metadata": {},
   "outputs": [
    {
     "data": {
      "text/plain": [
       "1.0"
      ]
     },
     "execution_count": 4,
     "metadata": {},
     "output_type": "execute_result"
    }
   ],
   "source": [
    "xrd1.calculate_similarity(xrd1.both_patterns,xrd2.both_patterns)\n",
    "xrd2.calculate_similarity(xrd1.both_patterns,xrd2.both_patterns)"
   ]
  },
  {
   "cell_type": "code",
   "execution_count": null,
   "metadata": {},
   "outputs": [],
   "source": []
  },
  {
   "cell_type": "code",
   "execution_count": null,
   "metadata": {},
   "outputs": [],
   "source": []
  }
 ],
 "metadata": {
  "kernelspec": {
   "display_name": "Python 3",
   "language": "python",
   "name": "python3"
  },
  "language_info": {
   "codemirror_mode": {
    "name": "ipython",
    "version": 3
   },
   "file_extension": ".py",
   "mimetype": "text/x-python",
   "name": "python",
   "nbconvert_exporter": "python",
   "pygments_lexer": "ipython3",
   "version": "3.7.4"
  }
 },
 "nbformat": 4,
 "nbformat_minor": 4
}
