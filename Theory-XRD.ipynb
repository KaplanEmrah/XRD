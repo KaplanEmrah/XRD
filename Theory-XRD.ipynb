{
 "cells": [
  {
   "cell_type": "markdown",
   "metadata": {},
   "source": [
    "# Physics 300 \n",
    "## Computational Physics I (Fall 2017)\n",
    "## BPB-248, Tues/Thurs 10:00 - 11:15 am \n",
    "\n",
    "|Instructor| Prof. Qiang Zhu|\n",
    "|--|-------------------------------|\n",
    "|Email | qiang.zhu@unlv.edu|\n",
    "|Website|http://www.physics.unlv.edu/~qzhu/|\n",
    "|Office| BPB 232|\n",
    "|Office hours | Tues/Thurs 8:30 - 10:00 |"
   ]
  },
  {
   "cell_type": "markdown",
   "metadata": {},
   "source": [
    "# 12 X-ray diffraction II\n",
    "\n",
    "We haven't learned some basic theories regarding how to calculate the PXRD in the last classes. \n",
    "Now we are going to assemble all the codes which we have to complete the entire project.\n"
   ]
  },
  {
   "cell_type": "markdown",
   "metadata": {},
   "source": [
    "## 12.1 Interplanar spacing\n",
    "\n",
    "How many differents spacing we can have in a crystal? If we represent the crystal as a periodic packing of atoms in the three dimensional space. According to the [_Miller indices_](https://en.wikipedia.org/wiki/Miller_index), \n",
    "we can calculate any arbitray $d_{hkl}$ from 1/$g_{hkl}$ based on the reciprocal lattice\n",
    "\n",
    "$$g_{hkl} = h \\cdot b_1 + k \\cdot b_2 + c \\cdot b_3 $$\n",
    "\n",
    "where $b_1, b_2, b_3$ are the reciprocal lattice vectors, which satisfy the following conditions:\n",
    "$$ b_1 = \\frac{a2 \\times a3} {V}$$\n",
    "$$ b_2 = \\frac{a3 \\times a1} {V}$$\n",
    "$$ b_3 = \\frac{a1 \\times a2} {V}$$\n",
    "\n",
    "in which $V$ is the volume of the real space lattice.\n",
    "\n",
    "Suppose the box is a cube described by\n",
    "$$\n",
    "\\begin{bmatrix}\n",
    "    a & 0 & 0 \\\\\n",
    "    0 & a & 0 \\\\\n",
    "    0 & 0 & a\n",
    "\\end{bmatrix}\n",
    "$$\n",
    "\n",
    "It is much easier for the case of cubic lattice, in which b1=b2=b3=1/a. \n",
    "Therefore, the interplanar spacing $d$ is.\n",
    "\n",
    "$$ d_{hkl} = \\frac{a}{\\sqrt{h^2+k^2+l^2}} $$\n",
    "\n",
    "Formally defined as the interplanar spacing between successive (hkl) planes passing through the corners of the unit cell.\n",
    "- also may be defined as the distance between the origin and the nearest (hkl) plane.\n",
    "- this distance is only for crystals with orthogonal axes (cubic, tetragonal,orthorhombic)\n",
    "- the cubic case is the only case where three lattice parameters are equal.\n",
    "\n",
    "The derivation of $d_{hkl}$ for all three cases is simple, just remember that the definition of $d_{hkl}$ is the distance from the (hkl) plane to the origin. \n",
    "\n",
    "Remember that the truncation of (hkl) planes is\n",
    "\n",
    "$$ d_\\text{min} = \\frac{\\lambda}{2}$$\n",
    "\n",
    "according to the Bragg's law.\n",
    "\n",
    "We start by initializing some structure, above this structure is the diagonal matrix with lattice vectors a. From this lattice structure, the goal is to calculate all possible (hkl) planes and interplanar spacings d that satisfy two conditions:\n",
    "1. (h,k,l) can't be (0,0,0). Geometrically this isn't a plane, and mathematically the interplananr distance is infinite.\n",
    "2. The planar spacing is greater than the the cutoff wavelength/2. If this isn't the case, the interacting photons will not be able to penetrate the crystal structure, leading to zero XRD.\n",
    "\n",
    "So, the a/d_min condition will define the search area, while the dum > 0 and a/sum > dmin condition ensures diffraction."
   ]
  },
  {
   "cell_type": "code",
   "execution_count": 33,
   "metadata": {},
   "outputs": [
    {
     "name": "stdout",
     "output_type": "stream",
     "text": [
      "[[-1  0  0]\n",
      " [ 0 -1  0]\n",
      " [ 0  0 -1]\n",
      " [ 0  0  1]\n",
      " [ 0  1  0]\n",
      " [ 1  0  0]]\n"
     ]
    }
   ],
   "source": [
    "# Write a program to calculate all possible (hkl) planes and the corresponding d spacing for the following condition\n",
    "# 1, wavelength is 1.5487 Å \n",
    "# 2, lattice is a cube with a unit length of 3.5 Å.\n",
    "\n",
    "# this function is useful if you want to see the intensities of XRD from these (hkl) planes\n",
    "from math import sqrt\n",
    "import numpy as np\n",
    "def all_dhkl(a, wavelength):\n",
    "    \"\"\" 3x3 representation -> 1x6 (a, b, c, alpha, beta, gamma)\"\"\"\n",
    "    d_min = wavelength/2\n",
    "    d_hkl = []\n",
    "    hkl_list = []\n",
    "    h1 = int(a/d_min) # I am not certain where this condition comes from\n",
    "    for h in range(-h1,h1+1):\n",
    "        for k in range(-h1,h1+1):\n",
    "            for l in range(-h1,h1+1):\n",
    "                sum_d = sqrt(h**2+k**2+l**2)\n",
    "                if sum_d > 0 and a/sum_d > d_min:\n",
    "                    d_hkl.append(a/sum_d)\n",
    "                    hkl_list.append([h,k,l])\n",
    "    d_hkl = np.array(d_hkl) # list of distances of hkl planes from the origin\n",
    "    hkl_list = np.array(hkl_list) # list of all hkl planes\n",
    "    seq = np.argsort(1/d_hkl)\n",
    "    return np.array(hkl_list)[seq,:]\n",
    "\n",
    "hkl_list = all_dhkl(1, 1.5) # get hkl planes and distances for some lattice vector and wavelength\n",
    "print(hkl_list)"
   ]
  },
  {
   "cell_type": "markdown",
   "metadata": {},
   "source": [
    "## Below are functions to calculate the intensity, atom_scattering factor, and the structural factor. Explanations of each will be in reverse order.\n",
    "- most factors involve a fourier transform of a spatial density distribution of the scattering object from real space to recipricol space \n",
    "\n",
    "### Structual factor: How material scatters radiation. \n",
    "- In the case of crystal structures, the structure factor is denoted by F_{hkl} or F.\n",
    "- F relates the amplitude and phase of the beam diffracted by the hkl planes.\n",
    "- F will result in the calculation of the intensity.\n",
    "\n",
    "$$F_{hkl} = \\sum_{j=1}^N f_j e^{-2\\pi i(hx_j+ky_j+lz_j)}$$\n",
    "\n",
    "- N is the number of atoms in the unit cell, (x_j,y_j,z_j) are j-th atom positions, f_j is the scattering facotr  of the j-th atom. x, y, and z are also the locations of the lattice points. (hkl) is the recipricol lattice point.\n",
    "- In a nutshell, F is the vector sum of waves from all atoms within the unit cell.\n",
    "\n",
    "### Atomic scattering factor: scattering amplitude of a wave by an isolated atom\n",
    "- dependent on the nature of incident photons\n",
    "- for crystals atomic form factors are utilized to find the structual factor for some Bragg peak.\n",
    "- physically, XRAYs are scattered by the e- cloud of the atom. Higher Z implies increasing scattering amplitude (similar to the transmission coefficient for a some quantum potential).\n",
    "- Elements with low Z will rarely interact with light.\n",
    "- The atomic scattering factor f, is usually a function of the scattering vector \n",
    "\n",
    "$$q = \\frac{4\\pi}{\\lambda}sin(\\theta)$$\n",
    "\n",
    "- Here $2\\theta$ is the angle between the incident x-ray beam and the detector measuring the scattered intensity, and $\\lambda$ is the incident wavelength of XRAYs\n",
    "- The scattering vector is synonymous to the resolution with which the sample is observed.\n",
    "- In the range $0<q<25 A^{-1}$\n",
    "\n",
    "$$f(q) = \\sum_{i=1}^4a_iexp(-b_i(\\frac{q}{2\\pi})^2+c$$\n",
    "\n",
    "### Intensity (unfinished)\n",
    "- The intensity is given by the modulus square of F\n",
    "- Look more into the correction factors"
   ]
  },
  {
   "cell_type": "code",
   "execution_count": 29,
   "metadata": {},
   "outputs": [],
   "source": [
    "# Write a program to calculate all possible (100) planes for the following condition\n",
    "# 1, wavelength is 1.5487 Å \n",
    "# 2, lattice is a cube with a unit length of 3.5 Å.\n",
    "# 3，coordinates are \n",
    "#    Na1(0,0,0), Na2(0,1/2,1/2), Na3(1/2,1/2,0), Na4(1/2,0,1/2)\n",
    "#    Cl1(0,1/,0), Cl2(0,0,1/2), Cl3(1/2,0,0), Cl4(1/2,1/2,1/2)\n",
    "\n",
    "import numpy as np\n",
    "from math import asin, sin, cos, exp, pi\n",
    "def intensity(wavelength, cubic, position, hkl):\n",
    "    # input some incident wavelength, lattice vector, \n",
    "    # lattice points (atom positions), and hkl plane\n",
    "    \n",
    "    \"\"\"\" Calculate intensity \"\"\"\n",
    "    h,k,l = hkl # hkl plane\n",
    "    d = cubic/sqrt(h**2+k**2+l**2) # calculate distance from origin\n",
    "    sintheta = wavelength/2/d # bragg's law\n",
    "    theta = asin(sintheta) # calculate the incident angle \n",
    "    # sintheta/wavelength is synonymous to q\n",
    "    f = atom_scatter(sintheta/wavelength) # get atomic scattering factor\n",
    "    F = structure_factor(f, position, hkl) # calculate structual factor\n",
    "    # LP*L give the lorentz polarization correction for each hkl\n",
    "    LP = 1/sin(theta)**2/cos(theta) \n",
    "    P = 1 + cos(2*theta)**2\n",
    "    # Intensity with correction factor\n",
    "    I = (np.abs(F))**2*LP*P\n",
    "    return I\n",
    "\n",
    "def atom_scatter(d0):\n",
    "    \"\"\" scattering factor \"\"\"\n",
    "    f = []\n",
    "    # atom_type is used so that the correct atomic form factors are used in calculation\n",
    "    # for each atom, \n",
    "    atom_type = [0,0,0,0,1,1,1,1] \n",
    "    # tabulated atomic form factors\n",
    "    s = [[4.763, 3.174, 1.267, 1.113, 3.285, 8.842, 0.314, 129.424, 0.676],\n",
    "         [11.46, 7.196, 6.256, 1.645, 0.01, 1.166, 18.519, 47.778, -9.557]]\n",
    "    count = 0\n",
    "    for i in atom_type:\n",
    "        c = s[i]\n",
    "        f_tmp = c[0]*np.exp(-c[4]*d0) + c[1]*np.exp(-c[5]*d0) + c[2]*np.exp(-c[6]*d0) + c[3]*np.exp(-c[7]*d0) + c[8]\n",
    "        f.append(f_tmp)\n",
    "    return f\n",
    "   \n",
    "def structure_factor(f, pos, hkl):\n",
    "    \"\"\" N*1 array\"\"\"\n",
    "    F = 0\n",
    "    h,k,l=hkl # recipricol lattice points, (hkl plane)\n",
    "    for fj, xyz in zip(f, pos):\n",
    "        x,y,z = xyz # lattice point\n",
    "        F += fj*np.exp(2*pi*(1j)*(h*x + k*y+ l*z)) \n",
    "                    \n",
    "    return F\n",
    "\n"
   ]
  },
  {
   "cell_type": "code",
   "execution_count": 30,
   "metadata": {},
   "outputs": [
    {
     "name": "stdout",
     "output_type": "stream",
     "text": [
      "[2, 2, 0] 23933.529932340676\n",
      "[2, 1, 3] 1.3506208996787634e-29\n"
     ]
    }
   ],
   "source": [
    "pos =  [[0,0,0],\n",
    "        [0.5,0.5,0],\n",
    "        [0,0.5,0.5],\n",
    "        [0.5,0,0.5],\n",
    "        [0.5,0.5,0.5],\n",
    "        [0.5,0,0],\n",
    "        [0,0,0.5],\n",
    "        [0,0.5,0]]\n",
    "\n",
    "hkl = [2,2,0]\n",
    "print(hkl, intensity(1.54184, 5.692, pos, hkl)) # set h+k+l = even number\n",
    "hkl = [2,1,3]\n",
    "print(hkl, intensity(1.54184, 5.692, pos, hkl)) # set h+k+l = odd number\n"
   ]
  },
  {
   "cell_type": "code",
   "execution_count": 31,
   "metadata": {},
   "outputs": [],
   "source": [
    "# We can now output the intensities for all hkls\n",
    "def xrd_by_hkls(wavelength, cubic, pos, hkl_list):\n",
    "    for hkl in hkl_list:\n",
    "        h,k,l = hkl\n",
    "        i = intensity(wavelength, cubic, pos, hkl)\n",
    "        if i > 1:\n",
    "            print(\"[%2d %2d %2d] %6.2f\" %(h,k,l,i))\n",
    "            \n",
    "xrd_by_hkls(1.54184, 5.692, pos, hkl_list)"
   ]
  },
  {
   "cell_type": "code",
   "execution_count": 32,
   "metadata": {},
   "outputs": [
    {
     "data": {
      "text/plain": [
       "<Figure size 640x480 with 1 Axes>"
      ]
     },
     "metadata": {},
     "output_type": "display_data"
    }
   ],
   "source": [
    "import matplotlib.pyplot as plt\n",
    "from math import degrees\n",
    "\n",
    "def plot_pxrd(wavelength, cubic, pos, hkl_list):\n",
    "    theta2 = []\n",
    "    pxrd_intensity = []\n",
    "    for hkl in hkl_list:\n",
    "        h,k,l = hkl\n",
    "        i = intensity(wavelength, cubic, pos, hkl)\n",
    "        if i > 1:\n",
    "            d = cubic/sqrt(h**2+k**2+l**2)\n",
    "            sintheta = wavelength/2/d\n",
    "            theta = degrees(asin(sintheta))\n",
    "            if len(pxrd_intensity) == 0:\n",
    "                pxrd_intensity.append(i)\n",
    "                theta2.append(2*theta)\n",
    "            elif abs(theta*2-theta2[-1])<0.001:\n",
    "                pxrd_intensity[-1] += i\n",
    "            else:\n",
    "                pxrd_intensity.append(i)\n",
    "                theta2.append(2*theta)\n",
    "                \n",
    "    plt.bar(theta2, pxrd_intensity)\n",
    "    plt.xlabel('2θ')\n",
    "    plt.ylabel('Intensity')\n",
    "    plt.show()\n",
    "\n",
    "    for theta, i in zip(theta2, pxrd_intensity):\n",
    "        print(theta, i)\n",
    "    \n",
    "plot_pxrd(1.54184, 5.692, pos, hkl_list)"
   ]
  },
  {
   "cell_type": "markdown",
   "metadata": {},
   "source": [
    "## 12.3 Further Reading\n",
    "\n",
    "\n",
    "### Code\n",
    "The above code indeed could calculate XRD very well. However, it is gonna be insufficient when you have many hkl planes to calculate.\n",
    "\n",
    "Therefore, it could be further improved in two aspects\n",
    "- __verctorization__, one could try to kill those unnecessary for loops by following the recipes which we mentioned in the previous classes\n",
    "- __class design__, since there are many variables to deal with, it is better to assemble them into several classes\n",
    "\n",
    "I created a [github page](https://github.com/qzhu2017/XRD) while preparing for the lecture notes\n"
   ]
  },
  {
   "cell_type": "code",
   "execution_count": null,
   "metadata": {
    "collapsed": true,
    "jupyter": {
     "outputs_hidden": true
    }
   },
   "outputs": [],
   "source": []
  }
 ],
 "metadata": {
  "kernelspec": {
   "display_name": "Python 3",
   "language": "python",
   "name": "python3"
  },
  "language_info": {
   "codemirror_mode": {
    "name": "ipython",
    "version": 3
   },
   "file_extension": ".py",
   "mimetype": "text/x-python",
   "name": "python",
   "nbconvert_exporter": "python",
   "pygments_lexer": "ipython3",
   "version": "3.7.4"
  }
 },
 "nbformat": 4,
 "nbformat_minor": 4
}
